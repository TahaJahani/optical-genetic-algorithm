{
 "cells": [
  {
   "cell_type": "code",
   "execution_count": null,
   "metadata": {},
   "outputs": [],
   "source": [
    "from pyoptools.all import *\n",
    "from math import pi\n",
    "\n",
    "P = RightAnglePrism(width=20, height=20, material=material.schott[\"N-BK7\"])\n",
    "\n",
    "S4=Cylindrical(shape=Circular(radius=25),curvature=1./200)\n",
    "S5=Cylindrical(shape=Circular(radius=25),curvature=-1./200)\n",
    "\n",
    "L=Component(surflist=[(S5,(0,0,5),(0,0,pi/2)),\n",
    "                      (S4,(0,0,-5),(0,0,pi/2))\n",
    "                      ], \n",
    "                      material=material.schott[\"N-BK7\"])\n",
    "\n",
    "ccd=CCD()\n",
    "\n",
    "S=System(complist=[(P,(0,0,0),(pi/2,pi/2,0)),\n",
    "                   (L,(0,10,60),(-0.2,0,0)),\n",
    "                   (ccd,(0,25,150),(-0.2,0,0))],n=1)\n",
    "# Polychromatic beam\n",
    "R=[]\n",
    "\n",
    "for x in range (-5,6,1):\n",
    "    for y in range (-5,6,2):\n",
    "        R.append(Ray(pos=(x,y+35,-100),dir=(0,-.35,1),wavelength=.45))\n",
    "        R.append(Ray(pos=(x,y+35,-100),dir=(0,-.35,1),wavelength=.5))\n",
    "        R.append(Ray(pos=(x,y+35,-100),dir=(0,-.35,1),wavelength=.55))\n",
    "        R.append(Ray(pos=(x,y+35,-100),dir=(0,-.35,1),wavelength=.60))\n",
    "        R.append(Ray(pos=(x,y+35,-100),dir=(0,-.35,1),wavelength=.65))\n",
    "S.ray_add(R)\n",
    "S.propagate()\n",
    "\n",
    "Plot3D(S,center=(0,.35*60,60),size=(500,200),scale=2,rot=[(0,pi/2+.2,0),(-.1,0,0)])"
   ]
  }
 ],
 "metadata": {
  "kernelspec": {
   "display_name": "optic",
   "language": "python",
   "name": "optic"
  },
  "language_info": {
   "codemirror_mode": {
    "name": "ipython",
    "version": 3
   },
   "file_extension": ".py",
   "mimetype": "text/x-python",
   "name": "python",
   "nbconvert_exporter": "python",
   "pygments_lexer": "ipython3",
   "version": "3.10.12"
  }
 },
 "nbformat": 4,
 "nbformat_minor": 4
}
