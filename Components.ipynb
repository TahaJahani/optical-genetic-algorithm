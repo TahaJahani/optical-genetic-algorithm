{
 "cells": [
  {
   "cell_type": "code",
   "execution_count": null,
   "metadata": {},
   "outputs": [],
   "source": [
    "from pyoptools.all import *\n",
    "from math import pi\n",
    "import random\n",
    "\n",
    "%run Setting.ipynb"
   ]
  },
  {
   "cell_type": "code",
   "execution_count": null,
   "metadata": {},
   "outputs": [],
   "source": [
    "class Component:\n",
    "    instance = None\n",
    "    loc = (0, 0, 0)\n",
    "    rotation = (0, 0, 0)\n",
    "    \n",
    "    def __init__(self, loc, rotation):\n",
    "        if len(loc) != 3:\n",
    "            raise Exception(\"Location myst be three parameters\")\n",
    "        self.loc = loc\n",
    "        self.rotation = rotation\n",
    "    \n",
    "    def get_instance(self):\n",
    "        return self.instance\n",
    "    \n",
    "    def get_loc(self):\n",
    "        return self.loc\n",
    "    \n",
    "    def get_rotation(self):\n",
    "        return self.rotation\n",
    "    \n",
    "    def mutate(self):\n",
    "        if len(self.instance.hit_list) > 0:\n",
    "            ray = self.instance.hit_list[0][1]\n",
    "            rand = random.random()\n",
    "            rand *= 2 * MAX_LOC_MUTATION_COEFF\n",
    "            coeff = rand - MAX_LOC_MUTATION_COEFF\n",
    "            coeff = round_off(coeff, MIN_LOC_MUTATION_COEFF)\n",
    "            self.loc += coeff * ray.dir\n"
   ]
  },
  {
   "cell_type": "code",
   "execution_count": null,
   "metadata": {},
   "outputs": [],
   "source": [
    "class MirrorComponent(Component):\n",
    "    def __init__(self, loc, rotation):\n",
    "        self.instance = RectMirror(size=(10.0, 10.0, 1.0), reflectivity=1, material=material.schott[\"N-BK7\"])\n",
    "        super().__init__(loc, rotation)\n",
    "    \n",
    "    def mutate(self):\n",
    "        super().mutate()"
   ]
  },
  {
   "cell_type": "code",
   "execution_count": null,
   "metadata": {},
   "outputs": [],
   "source": [
    "class BeamSplitterComponent(Component):\n",
    "    def __init__(self, loc, rotation):\n",
    "        self.instance = RectMirror(size=(10.0, 10.0, 1.0), reflectivity=0.5, material=material.schott[\"N-BK7\"])\n",
    "        super().__init__(loc, rotation)\n",
    "\n",
    "    def mutate(self):\n",
    "        new_reflectivity = round(random.random(), 1)\n",
    "        self.instance = RectMirror(size=(10.0, 10.0, 1.0), reflectivity=new_reflectivity, material=material.schott[\"N-BK7\"])\n",
    "        super().mutate()"
   ]
  },
  {
   "cell_type": "code",
   "execution_count": null,
   "metadata": {},
   "outputs": [],
   "source": [
    "class LensComponent(Component):\n",
    "    def __init__(self, loc, rotation):\n",
    "        self.instance = SphericalLens(radius=5,curvature_s1=1./10.,curvature_s2=-1./10,thickness=3.0,material=material.schott[\"N-BK7\"])\n",
    "        super().__init__(loc, rotation)\n",
    "    \n",
    "    def mutate(self):\n",
    "        new_s1_curve = round(random.random(), 1)\n",
    "        self.instance = SphericalLens(radius=5,curvature_s1=new_s1_curve,curvature_s2=-1 * new_s1_curve,thickness=3.0,material=material.schott[\"N-BK7\"])\n",
    "        super().mutate()"
   ]
  },
  {
   "cell_type": "code",
   "execution_count": null,
   "metadata": {},
   "outputs": [],
   "source": [
    "class CcdComponent(Component):\n",
    "    def __init__(self, loc, rotation):\n",
    "        self.instance = CCD()\n",
    "        super().__init__(loc, rotation)"
   ]
  }
 ],
 "metadata": {
  "kernelspec": {
   "display_name": "optic",
   "language": "python",
   "name": "optic"
  },
  "language_info": {
   "codemirror_mode": {
    "name": "ipython",
    "version": 3
   },
   "file_extension": ".py",
   "mimetype": "text/x-python",
   "name": "python",
   "nbconvert_exporter": "python",
   "pygments_lexer": "ipython3",
   "version": "3.10.12"
  }
 },
 "nbformat": 4,
 "nbformat_minor": 4
}
