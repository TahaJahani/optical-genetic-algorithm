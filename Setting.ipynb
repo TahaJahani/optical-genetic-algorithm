{
 "cells": [
  {
   "cell_type": "code",
   "execution_count": null,
   "metadata": {},
   "outputs": [],
   "source": [
    "LOC_LIMIT = (50, 50, 50)\n",
    "MAX_LOC_MUTATION_COEFF = 5\n",
    "MIN_LOC_MUTATION_COEFF = 0.5\n",
    "ROTATION_OPTIONS = [0, pi/4, 3 * pi /4, 5 * pi / 4, 7 * pi / 4, pi/2, pi, 3*pi/2, 2*pi]\n",
    "LOC_CHANGE_VALUE = 0.5\n",
    "ROT_CHANGE_VALUE = pi/2"
   ]
  },
  {
   "cell_type": "code",
   "execution_count": null,
   "metadata": {},
   "outputs": [],
   "source": [
    "def round_off(number, value):\n",
    "    return round(number * (1 / value)) / (1 / value)"
   ]
  }
 ],
 "metadata": {
  "kernelspec": {
   "display_name": "optic",
   "language": "python",
   "name": "optic"
  },
  "language_info": {
   "codemirror_mode": {
    "name": "ipython",
    "version": 3
   },
   "file_extension": ".py",
   "mimetype": "text/x-python",
   "name": "python",
   "nbconvert_exporter": "python",
   "pygments_lexer": "ipython3",
   "version": "3.10.12"
  }
 },
 "nbformat": 4,
 "nbformat_minor": 4
}
